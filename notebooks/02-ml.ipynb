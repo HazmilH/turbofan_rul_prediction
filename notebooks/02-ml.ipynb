{
 "cells": [
  {
   "cell_type": "code",
   "execution_count": 2,
   "metadata": {
    "ExecuteTime": {
     "end_time": "2020-11-27T18:18:32.930199Z",
     "start_time": "2020-11-27T18:18:32.924272Z"
    }
   },
   "outputs": [],
   "source": [
    "import glob\n",
    "import numpy as np\n",
    "import pandas as pd\n",
    "from matplotlib import pyplot as plt\n",
    "import seaborn as sns\n",
    "%matplotlib notebook\n",
    "%matplotlib inline\n",
    "pd.options.display.max_columns = None"
   ]
  },
  {
   "cell_type": "code",
   "execution_count": 19,
   "metadata": {
    "ExecuteTime": {
     "end_time": "2020-11-27T18:25:01.873043Z",
     "start_time": "2020-11-27T18:25:01.867881Z"
    }
   },
   "outputs": [
    {
     "data": {
      "text/plain": [
       "'../data/processed/train/FD001_processed.csv'"
      ]
     },
     "execution_count": 19,
     "metadata": {},
     "output_type": "execute_result"
    }
   ],
   "source": [
    "path_to_processed_train = '../data/processed/train/'\n",
    "files = sorted(glob.glob(path_to_processed_train+'*'))\n",
    "files[0]\n",
    "\n",
    "df = pd.read_csv(files[0])\n",
    "\n",
    "to_drop = ['unit_id', 'time_cycle', 'max_cycle']\n",
    "constant_features = ['op_set_3', 'sensor_18', 'sensor_19']\n",
    "quasi_cons_features = ['sensor_1', 'sensor_5', 'sensor_6', 'sensor_10', 'sensor_16']\n",
    "features = [x for x in df.columns if x not in constant_features+quasi_cons_features+to_drop]"
   ]
  },
  {
   "cell_type": "code",
   "execution_count": 269,
   "metadata": {
    "ExecuteTime": {
     "end_time": "2020-11-27T21:11:51.281358Z",
     "start_time": "2020-11-27T21:11:51.275548Z"
    }
   },
   "outputs": [
    {
     "data": {
      "text/plain": [
       "362"
      ]
     },
     "execution_count": 269,
     "metadata": {},
     "output_type": "execute_result"
    }
   ],
   "source": [
    "df['max_cycle'].max()"
   ]
  },
  {
   "cell_type": "code",
   "execution_count": 35,
   "metadata": {
    "ExecuteTime": {
     "end_time": "2020-11-27T18:28:33.062194Z",
     "start_time": "2020-11-27T18:28:33.056395Z"
    }
   },
   "outputs": [],
   "source": [
    "y = df['RUL']\n",
    "X = df[features[:-1]]"
   ]
  },
  {
   "cell_type": "code",
   "execution_count": 51,
   "metadata": {
    "ExecuteTime": {
     "end_time": "2020-11-27T19:25:36.189251Z",
     "start_time": "2020-11-27T19:25:36.049847Z"
    }
   },
   "outputs": [],
   "source": [
    "# split dataset & prepare \n",
    "from sklearn.model_selection import train_test_split\n",
    "from sklearn.decomposition import PCA\n",
    "\n",
    "# feature engineering\n",
    "from sklearn.preprocessing import StandardScaler, MinMaxScaler\n",
    "from sklearn.preprocessing import PolynomialFeatures\n",
    "\n",
    "# pipeline\n",
    "from sklearn.pipeline import Pipeline\n",
    "\n",
    "# ML model\n",
    "from sklearn.linear_model import LinearRegression\n",
    "from sklearn.neighbors import KNeighborsRegressor\n",
    "from sklearn.svm import SVR\n",
    "\n",
    "# DL model\n",
    "from sklearn.neural_network import MLPRegressor\n",
    "\n",
    "# metrics evaluation\n",
    "from sklearn.metrics import r2_score, mean_squared_error"
   ]
  },
  {
   "cell_type": "code",
   "execution_count": 70,
   "metadata": {
    "ExecuteTime": {
     "end_time": "2020-11-27T19:34:20.760945Z",
     "start_time": "2020-11-27T19:34:20.737120Z"
    }
   },
   "outputs": [
    {
     "name": "stdout",
     "output_type": "stream",
     "text": [
      "(16504, 16) (4127, 16) (16504,) (4127,)\n"
     ]
    }
   ],
   "source": [
    "X_train, X_test, y_train, y_test = train_test_split(X, y, test_size=0.2, random_state=1234)\n",
    "\n",
    "print(X_train.shape, X_test.shape, y_train.shape, y_test.shape)\n",
    "\n",
    "# features scaling\n",
    "scaler = StandardScaler()\n",
    "\n",
    "X_train = scaler.fit_transform(X_train)\n",
    "X_test = scaler.transform(X_test)"
   ]
  },
  {
   "cell_type": "code",
   "execution_count": 132,
   "metadata": {
    "ExecuteTime": {
     "end_time": "2020-11-27T20:05:52.931368Z",
     "start_time": "2020-11-27T20:05:37.553680Z"
    }
   },
   "outputs": [
    {
     "data": {
      "text/plain": [
       "(0.5661444544316434, 0.5575576364089707)"
      ]
     },
     "execution_count": 132,
     "metadata": {},
     "output_type": "execute_result"
    }
   ],
   "source": [
    "model = SVR(kernel='linear')\n",
    "model.fit(X_train, y_train)\n",
    "\n",
    "model.score(X_train,y_train) , model.score(X_test,y_test)"
   ]
  },
  {
   "cell_type": "code",
   "execution_count": 133,
   "metadata": {
    "ExecuteTime": {
     "end_time": "2020-11-27T20:05:53.074792Z",
     "start_time": "2020-11-27T20:05:53.069773Z"
    }
   },
   "outputs": [
    {
     "data": {
      "text/plain": [
       "{'C': 1.0,\n",
       " 'cache_size': 200,\n",
       " 'coef0': 0.0,\n",
       " 'degree': 3,\n",
       " 'epsilon': 0.1,\n",
       " 'gamma': 'scale',\n",
       " 'kernel': 'linear',\n",
       " 'max_iter': -1,\n",
       " 'shrinking': True,\n",
       " 'tol': 0.001,\n",
       " 'verbose': False}"
      ]
     },
     "execution_count": 133,
     "metadata": {},
     "output_type": "execute_result"
    }
   ],
   "source": [
    "model.get_params()"
   ]
  },
  {
   "cell_type": "code",
   "execution_count": 134,
   "metadata": {
    "ExecuteTime": {
     "end_time": "2020-11-27T20:05:54.125364Z",
     "start_time": "2020-11-27T20:05:53.219348Z"
    }
   },
   "outputs": [],
   "source": [
    "y_pred = model.predict(X_test)"
   ]
  },
  {
   "cell_type": "code",
   "execution_count": 135,
   "metadata": {
    "ExecuteTime": {
     "end_time": "2020-11-27T20:05:54.250739Z",
     "start_time": "2020-11-27T20:05:54.243875Z"
    }
   },
   "outputs": [
    {
     "data": {
      "text/plain": [
       "array([146.17598819,  65.41819614, 149.90560382, ..., 146.6487564 ,\n",
       "       106.30878689, 113.31333635])"
      ]
     },
     "execution_count": 135,
     "metadata": {},
     "output_type": "execute_result"
    }
   ],
   "source": [
    "y_pred"
   ]
  },
  {
   "cell_type": "code",
   "execution_count": 158,
   "metadata": {
    "ExecuteTime": {
     "end_time": "2020-11-27T20:11:43.698616Z",
     "start_time": "2020-11-27T20:11:43.690433Z"
    }
   },
   "outputs": [
    {
     "data": {
      "text/plain": [
       "0       169\n",
       "1       112\n",
       "2       151\n",
       "3        89\n",
       "4        87\n",
       "       ... \n",
       "4122     29\n",
       "4123     32\n",
       "4124    166\n",
       "4125    143\n",
       "4126     70\n",
       "Name: RUL, Length: 4127, dtype: int64"
      ]
     },
     "execution_count": 158,
     "metadata": {},
     "output_type": "execute_result"
    }
   ],
   "source": [
    "y_test.reset_index(drop=True)"
   ]
  },
  {
   "cell_type": "code",
   "execution_count": 137,
   "metadata": {
    "ExecuteTime": {
     "end_time": "2020-11-27T20:05:54.532168Z",
     "start_time": "2020-11-27T20:05:54.522075Z"
    }
   },
   "outputs": [
    {
     "data": {
      "text/plain": [
       "array([[ -0.3984094 ,   0.51497092,  -3.5566138 ,  -2.32158475,\n",
       "         -6.34138854,   5.41069358,  -1.59834488,  -7.65371405,\n",
       "        -10.39214976,   7.66372586,  -1.08359645,  -3.43911023,\n",
       "         -3.8928618 ,  -2.36106051,   3.46472223,   3.2749602 ]])"
      ]
     },
     "execution_count": 137,
     "metadata": {},
     "output_type": "execute_result"
    }
   ],
   "source": [
    "model.coef_"
   ]
  },
  {
   "cell_type": "code",
   "execution_count": 144,
   "metadata": {
    "ExecuteTime": {
     "end_time": "2020-11-27T20:09:15.718892Z",
     "start_time": "2020-11-27T20:09:15.713760Z"
    }
   },
   "outputs": [
    {
     "data": {
      "text/plain": [
       "(pandas.core.series.Series, pandas.core.series.Series)"
      ]
     },
     "execution_count": 144,
     "metadata": {},
     "output_type": "execute_result"
    }
   ],
   "source": [
    "type(y_test), type(pd.Series(y_pred))"
   ]
  },
  {
   "cell_type": "code",
   "execution_count": null,
   "metadata": {},
   "outputs": [],
   "source": []
  },
  {
   "cell_type": "code",
   "execution_count": 252,
   "metadata": {
    "ExecuteTime": {
     "end_time": "2020-11-27T20:52:38.487653Z",
     "start_time": "2020-11-27T20:52:38.475094Z"
    }
   },
   "outputs": [],
   "source": [
    "# create RUL df to compute error,d and score,s\n",
    "RUL = pd.concat([y_test.reset_index(drop=True), pd.Series(y_pred)], axis=1, ignore_index=True )\n",
    "RUL.rename(columns={0:'true', 1:'estimated'}, inplace=True)\n",
    "\n",
    "# cast as int\n",
    "RUL['estimated'] = [int(i) for i in RUL['estimated']]\n",
    " \n",
    "# compute error d\n",
    "RUL['error'] = RUL['estimated'] - RUL['true']\n",
    "\n",
    "RUL"
   ]
  },
  {
   "cell_type": "code",
   "execution_count": 254,
   "metadata": {
    "ExecuteTime": {
     "end_time": "2020-11-27T20:52:46.873907Z",
     "start_time": "2020-11-27T20:52:46.539302Z"
    }
   },
   "outputs": [
    {
     "data": {
      "text/html": [
       "<div>\n",
       "<style scoped>\n",
       "    .dataframe tbody tr th:only-of-type {\n",
       "        vertical-align: middle;\n",
       "    }\n",
       "\n",
       "    .dataframe tbody tr th {\n",
       "        vertical-align: top;\n",
       "    }\n",
       "\n",
       "    .dataframe thead th {\n",
       "        text-align: right;\n",
       "    }\n",
       "</style>\n",
       "<table border=\"1\" class=\"dataframe\">\n",
       "  <thead>\n",
       "    <tr style=\"text-align: right;\">\n",
       "      <th></th>\n",
       "      <th>true</th>\n",
       "      <th>estimated</th>\n",
       "      <th>error</th>\n",
       "      <th>score</th>\n",
       "    </tr>\n",
       "  </thead>\n",
       "  <tbody>\n",
       "    <tr>\n",
       "      <th>0</th>\n",
       "      <td>169</td>\n",
       "      <td>146</td>\n",
       "      <td>-23</td>\n",
       "      <td>4</td>\n",
       "    </tr>\n",
       "    <tr>\n",
       "      <th>1</th>\n",
       "      <td>112</td>\n",
       "      <td>65</td>\n",
       "      <td>-47</td>\n",
       "      <td>36</td>\n",
       "    </tr>\n",
       "    <tr>\n",
       "      <th>2</th>\n",
       "      <td>151</td>\n",
       "      <td>149</td>\n",
       "      <td>-2</td>\n",
       "      <td>0</td>\n",
       "    </tr>\n",
       "    <tr>\n",
       "      <th>3</th>\n",
       "      <td>89</td>\n",
       "      <td>108</td>\n",
       "      <td>19</td>\n",
       "      <td>5</td>\n",
       "    </tr>\n",
       "    <tr>\n",
       "      <th>4</th>\n",
       "      <td>87</td>\n",
       "      <td>85</td>\n",
       "      <td>-2</td>\n",
       "      <td>0</td>\n",
       "    </tr>\n",
       "    <tr>\n",
       "      <th>...</th>\n",
       "      <td>...</td>\n",
       "      <td>...</td>\n",
       "      <td>...</td>\n",
       "      <td>...</td>\n",
       "    </tr>\n",
       "    <tr>\n",
       "      <th>4122</th>\n",
       "      <td>29</td>\n",
       "      <td>55</td>\n",
       "      <td>26</td>\n",
       "      <td>12</td>\n",
       "    </tr>\n",
       "    <tr>\n",
       "      <th>4123</th>\n",
       "      <td>32</td>\n",
       "      <td>56</td>\n",
       "      <td>24</td>\n",
       "      <td>10</td>\n",
       "    </tr>\n",
       "    <tr>\n",
       "      <th>4124</th>\n",
       "      <td>166</td>\n",
       "      <td>146</td>\n",
       "      <td>-20</td>\n",
       "      <td>3</td>\n",
       "    </tr>\n",
       "    <tr>\n",
       "      <th>4125</th>\n",
       "      <td>143</td>\n",
       "      <td>106</td>\n",
       "      <td>-37</td>\n",
       "      <td>16</td>\n",
       "    </tr>\n",
       "    <tr>\n",
       "      <th>4126</th>\n",
       "      <td>70</td>\n",
       "      <td>113</td>\n",
       "      <td>43</td>\n",
       "      <td>72</td>\n",
       "    </tr>\n",
       "  </tbody>\n",
       "</table>\n",
       "<p>4127 rows × 4 columns</p>\n",
       "</div>"
      ],
      "text/plain": [
       "      true  estimated  error  score\n",
       "0      169        146    -23      4\n",
       "1      112         65    -47     36\n",
       "2      151        149     -2      0\n",
       "3       89        108     19      5\n",
       "4       87         85     -2      0\n",
       "...    ...        ...    ...    ...\n",
       "4122    29         55     26     12\n",
       "4123    32         56     24     10\n",
       "4124   166        146    -20      3\n",
       "4125   143        106    -37     16\n",
       "4126    70        113     43     72\n",
       "\n",
       "[4127 rows x 4 columns]"
      ]
     },
     "execution_count": 254,
     "metadata": {},
     "output_type": "execute_result"
    }
   ],
   "source": [
    "RUL['score'] = 0\n",
    "\n",
    "# compute score s\n",
    "for i in range(len(RUL)):\n",
    "    if RUL['error'][i] < 0 : \n",
    "        d = RUL['error'][i]\n",
    "        RUL['score'][i] = math.exp(-d/13) - 1\n",
    "    else :\n",
    "        d = RUL['error'][i]\n",
    "        RUL['score'][i] = math.exp(d/10) - 1\n",
    "\n",
    "RUL"
   ]
  },
  {
   "cell_type": "code",
   "execution_count": 255,
   "metadata": {
    "ExecuteTime": {
     "end_time": "2020-11-27T20:53:06.696832Z",
     "start_time": "2020-11-27T20:53:06.524304Z"
    }
   },
   "outputs": [
    {
     "data": {
      "text/plain": [
       "<AxesSubplot:xlabel='error', ylabel='score'>"
      ]
     },
     "execution_count": 255,
     "metadata": {},
     "output_type": "execute_result"
    },
    {
     "data": {
      "image/png": "[encoded data removed]",
      "text/plain": [
       "<Figure size 432x288 with 1 Axes>"
      ]
     },
     "metadata": {
      "needs_background": "light"
     },
     "output_type": "display_data"
    }
   ],
   "source": [
    "RUL.plot(kind='scatter', x='error', y='score')"
   ]
  },
  {
   "cell_type": "code",
   "execution_count": 257,
   "metadata": {
    "ExecuteTime": {
     "end_time": "2020-11-27T20:53:37.128262Z",
     "start_time": "2020-11-27T20:53:37.122699Z"
    }
   },
   "outputs": [
    {
     "data": {
      "text/plain": [
       "(8886109, 0)"
      ]
     },
     "execution_count": 257,
     "metadata": {},
     "output_type": "execute_result"
    }
   ],
   "source": [
    "RUL['score'].max(), RUL['score'].min()"
   ]
  },
  {
   "cell_type": "code",
   "execution_count": 267,
   "metadata": {
    "ExecuteTime": {
     "end_time": "2020-11-27T20:59:49.245575Z",
     "start_time": "2020-11-27T20:59:49.082760Z"
    }
   },
   "outputs": [
    {
     "data": {
      "text/plain": [
       "<AxesSubplot:xlabel='error', ylabel='score'>"
      ]
     },
     "execution_count": 267,
     "metadata": {},
     "output_type": "execute_result"
    },
    {
     "data": {
      "image/png": "[encoded data removed]",
      "text/plain": [
       "<Figure size 432x288 with 1 Axes>"
      ]
     },
     "metadata": {
      "needs_background": "light"
     },
     "output_type": "display_data"
    }
   ],
   "source": [
    "RUL[RUL['score'] == RUL['score'].min()].plot(kind='scatter', x='error', y='score')"
   ]
  },
  {
   "cell_type": "code",
   "execution_count": null,
   "metadata": {},
   "outputs": [],
   "source": []
  }
 ],
 "metadata": {
  "kernelspec": {
   "display_name": "Python 3",
   "language": "python",
   "name": "python3"
  },
  "language_info": {
   "codemirror_mode": {
    "name": "ipython",
    "version": 3
   },
   "file_extension": ".py",
   "mimetype": "text/x-python",
   "name": "python",
   "nbconvert_exporter": "python",
   "pygments_lexer": "ipython3",
   "version": "3.7.6"
  },
  "toc": {
   "base_numbering": 1,
   "nav_menu": {},
   "number_sections": true,
   "sideBar": true,
   "skip_h1_title": false,
   "title_cell": "Table of Contents",
   "title_sidebar": "Contents",
   "toc_cell": false,
   "toc_position": {},
   "toc_section_display": true,
   "toc_window_display": false
  },
  "varInspector": {
   "cols": {
    "lenName": 16,
    "lenType": 16,
    "lenVar": 40
   },
   "kernels_config": {
    "python": {
     "delete_cmd_postfix": "",
     "delete_cmd_prefix": "del ",
     "library": "var_list.py",
     "varRefreshCmd": "print(var_dic_list())"
    },
    "r": {
     "delete_cmd_postfix": ") ",
     "delete_cmd_prefix": "rm(",
     "library": "var_list.r",
     "varRefreshCmd": "cat(var_dic_list()) "
    }
   },
   "types_to_exclude": [
    "module",
    "function",
    "builtin_function_or_method",
    "instance",
    "_Feature"
   ],
   "window_display": false
  }
 },
 "nbformat": 4,
 "nbformat_minor": 4
}
