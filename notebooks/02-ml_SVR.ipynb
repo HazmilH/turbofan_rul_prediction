{
 "cells": [
  {
   "cell_type": "code",
   "execution_count": 1,
   "metadata": {
    "ExecuteTime": {
     "end_time": "2020-12-03T16:39:10.336740Z",
     "start_time": "2020-12-03T16:39:09.514484Z"
    }
   },
   "outputs": [],
   "source": [
    "import glob\n",
    "import numpy as np # scientifique computation\n",
    "import pandas as pd # data manipulation\n",
    "from matplotlib import pyplot as plt # dataviz\n",
    "import seaborn as sns\n",
    "%matplotlib notebook\n",
    "%matplotlib inline\n",
    "pd.options.display.max_columns = None\n",
    "\n",
    "# split dataset & prepare \n",
    "from sklearn.model_selection import train_test_split\n",
    "from sklearn.decomposition import PCA\n",
    "\n",
    "# feature engineering\n",
    "from sklearn.preprocessing import StandardScaler, MinMaxScaler\n",
    "from sklearn.preprocessing import PolynomialFeatures\n",
    "\n",
    "# pipeline\n",
    "from sklearn.pipeline import Pipeline\n",
    "\n",
    "# ML model\n",
    "from sklearn.linear_model import LinearRegression, SGDRegressor\n",
    "from sklearn.neighbors import KNeighborsRegressor\n",
    "from sklearn.svm import SVR\n",
    "\n",
    "# DL model\n",
    "from sklearn.neural_network import MLPRegressor\n",
    "\n",
    "# metrics evaluation\n",
    "from sklearn.metrics import r2_score, mean_squared_error"
   ]
  },
  {
   "cell_type": "code",
   "execution_count": 39,
   "metadata": {
    "ExecuteTime": {
     "end_time": "2020-12-03T16:54:14.816897Z",
     "start_time": "2020-12-03T16:54:14.752085Z"
    }
   },
   "outputs": [],
   "source": [
    "path_to_interim = '../data/interim/'\n",
    "files = sorted(glob.glob(path_to_interim+'*'))\n",
    "\n",
    "# upload dataset\n",
    "df = pd.read_csv(files[0])\n",
    "\n",
    "# choose relevant features\n",
    "to_drop = ['engine_id', 'time_cycle', 'max_cycle'] # id/label cols\n",
    "cst_features = ['op_set_3', 'sensor_18', 'sensor_19'] # constant features\n",
    "quasi_cst_features = ['sensor_1', 'sensor_5', 'sensor_6', 'sensor_10', 'sensor_16'] # quasi-constant features\n",
    "high_corr_to_drop = ['sensor_14'] # drop corrected core speed - sensor 14\n",
    "discreet_features = ['op_set_2', 'sensor_17']\n",
    "\n",
    "# keep the ones to use for ML\n",
    "cols_to_keep = [x for x in df.columns if x not in \n",
    "                to_drop + cst_features + quasi_cst_features + ['RUL']]\n",
    "\n",
    "cols_to_keep_2 = [x for x in df.columns if x not in \n",
    "                to_drop + cst_features + quasi_cst_features + high_corr_to_drop + discreet_features + ['RUL']]"
   ]
  },
  {
   "cell_type": "code",
   "execution_count": 40,
   "metadata": {
    "ExecuteTime": {
     "end_time": "2020-12-03T16:54:21.240350Z",
     "start_time": "2020-12-03T16:54:21.235968Z"
    }
   },
   "outputs": [
    {
     "data": {
      "text/plain": [
       "['op_set_1',\n",
       " 'op_set_2',\n",
       " 'sensor_2',\n",
       " 'sensor_3',\n",
       " 'sensor_4',\n",
       " 'sensor_7',\n",
       " 'sensor_8',\n",
       " 'sensor_9',\n",
       " 'sensor_11',\n",
       " 'sensor_12',\n",
       " 'sensor_13',\n",
       " 'sensor_14',\n",
       " 'sensor_15',\n",
       " 'sensor_17',\n",
       " 'sensor_20',\n",
       " 'sensor_21',\n",
       " 'HI']"
      ]
     },
     "execution_count": 40,
     "metadata": {},
     "output_type": "execute_result"
    }
   ],
   "source": [
    "cols_to_keep"
   ]
  },
  {
   "cell_type": "code",
   "execution_count": 41,
   "metadata": {
    "ExecuteTime": {
     "end_time": "2020-12-03T16:54:36.541076Z",
     "start_time": "2020-12-03T16:54:36.512131Z"
    }
   },
   "outputs": [
    {
     "name": "stdout",
     "output_type": "stream",
     "text": [
      "(16504, 17) (4127, 17)\n",
      "(16504,) (4127,)\n"
     ]
    }
   ],
   "source": [
    "# assign target and features\n",
    "y = df['RUL']\n",
    "X = df[cols_to_keep]\n",
    "\n",
    "# split dataset\n",
    "X_train, X_test, y_train, y_test = train_test_split(X, y, test_size=0.2, random_state=1234)\n",
    "\n",
    "print(X_train.shape, X_test.shape)\n",
    "print(y_train.shape, y_test.shape)\n",
    "\n",
    "# features scaling\n",
    "scaler = StandardScaler()\n",
    "\n",
    "X_train = scaler.fit_transform(X_train)\n",
    "X_test = scaler.transform(X_test)"
   ]
  },
  {
   "cell_type": "code",
   "execution_count": 42,
   "metadata": {
    "ExecuteTime": {
     "end_time": "2020-12-03T16:54:53.909515Z",
     "start_time": "2020-12-03T16:54:53.903992Z"
    }
   },
   "outputs": [
    {
     "data": {
      "text/plain": [
       "(16504, 17)"
      ]
     },
     "execution_count": 42,
     "metadata": {},
     "output_type": "execute_result"
    }
   ],
   "source": [
    "pd.DataFrame(X_train) \n",
    "X_train.shape"
   ]
  },
  {
   "cell_type": "code",
   "execution_count": 43,
   "metadata": {
    "ExecuteTime": {
     "end_time": "2020-12-03T16:54:55.350752Z",
     "start_time": "2020-12-03T16:54:55.285091Z"
    }
   },
   "outputs": [
    {
     "data": {
      "text/html": [
       "<div>\n",
       "<style scoped>\n",
       "    .dataframe tbody tr th:only-of-type {\n",
       "        vertical-align: middle;\n",
       "    }\n",
       "\n",
       "    .dataframe tbody tr th {\n",
       "        vertical-align: top;\n",
       "    }\n",
       "\n",
       "    .dataframe thead th {\n",
       "        text-align: right;\n",
       "    }\n",
       "</style>\n",
       "<table border=\"1\" class=\"dataframe\">\n",
       "  <thead>\n",
       "    <tr style=\"text-align: right;\">\n",
       "      <th></th>\n",
       "      <th>0</th>\n",
       "      <th>1</th>\n",
       "      <th>2</th>\n",
       "      <th>3</th>\n",
       "      <th>4</th>\n",
       "      <th>5</th>\n",
       "      <th>6</th>\n",
       "      <th>7</th>\n",
       "      <th>8</th>\n",
       "      <th>9</th>\n",
       "      <th>10</th>\n",
       "      <th>11</th>\n",
       "      <th>12</th>\n",
       "      <th>13</th>\n",
       "      <th>14</th>\n",
       "      <th>15</th>\n",
       "      <th>16</th>\n",
       "    </tr>\n",
       "  </thead>\n",
       "  <tbody>\n",
       "    <tr>\n",
       "      <th>count</th>\n",
       "      <td>1.650400e+04</td>\n",
       "      <td>1.650400e+04</td>\n",
       "      <td>1.650400e+04</td>\n",
       "      <td>1.650400e+04</td>\n",
       "      <td>1.650400e+04</td>\n",
       "      <td>1.650400e+04</td>\n",
       "      <td>1.650400e+04</td>\n",
       "      <td>1.650400e+04</td>\n",
       "      <td>1.650400e+04</td>\n",
       "      <td>1.650400e+04</td>\n",
       "      <td>1.650400e+04</td>\n",
       "      <td>1.650400e+04</td>\n",
       "      <td>1.650400e+04</td>\n",
       "      <td>1.650400e+04</td>\n",
       "      <td>1.650400e+04</td>\n",
       "      <td>1.650400e+04</td>\n",
       "      <td>1.650400e+04</td>\n",
       "    </tr>\n",
       "    <tr>\n",
       "      <th>mean</th>\n",
       "      <td>2.475534e-18</td>\n",
       "      <td>-6.457914e-18</td>\n",
       "      <td>-1.064207e-13</td>\n",
       "      <td>-9.622292e-16</td>\n",
       "      <td>8.970917e-15</td>\n",
       "      <td>-1.612509e-13</td>\n",
       "      <td>-3.131335e-12</td>\n",
       "      <td>-3.295527e-15</td>\n",
       "      <td>1.195704e-14</td>\n",
       "      <td>4.080950e-14</td>\n",
       "      <td>8.344466e-12</td>\n",
       "      <td>5.478103e-14</td>\n",
       "      <td>-3.223575e-17</td>\n",
       "      <td>-4.511822e-15</td>\n",
       "      <td>-1.930642e-14</td>\n",
       "      <td>4.567575e-14</td>\n",
       "      <td>-3.788643e-17</td>\n",
       "    </tr>\n",
       "    <tr>\n",
       "      <th>std</th>\n",
       "      <td>1.000030e+00</td>\n",
       "      <td>1.000030e+00</td>\n",
       "      <td>1.000030e+00</td>\n",
       "      <td>1.000030e+00</td>\n",
       "      <td>1.000030e+00</td>\n",
       "      <td>1.000030e+00</td>\n",
       "      <td>1.000030e+00</td>\n",
       "      <td>1.000030e+00</td>\n",
       "      <td>1.000030e+00</td>\n",
       "      <td>1.000030e+00</td>\n",
       "      <td>1.000030e+00</td>\n",
       "      <td>1.000030e+00</td>\n",
       "      <td>1.000030e+00</td>\n",
       "      <td>1.000030e+00</td>\n",
       "      <td>1.000030e+00</td>\n",
       "      <td>1.000030e+00</td>\n",
       "      <td>1.000030e+00</td>\n",
       "    </tr>\n",
       "    <tr>\n",
       "      <th>min</th>\n",
       "      <td>-3.976916e+00</td>\n",
       "      <td>-2.056856e+00</td>\n",
       "      <td>-2.938678e+00</td>\n",
       "      <td>-3.172346e+00</td>\n",
       "      <td>-2.966727e+00</td>\n",
       "      <td>-3.956183e+00</td>\n",
       "      <td>-2.771903e+00</td>\n",
       "      <td>-1.869384e+00</td>\n",
       "      <td>-2.587606e+00</td>\n",
       "      <td>-3.499778e+00</td>\n",
       "      <td>-2.997504e+00</td>\n",
       "      <td>-2.291070e+00</td>\n",
       "      <td>-3.126635e+00</td>\n",
       "      <td>-3.367325e+00</td>\n",
       "      <td>-3.623265e+00</td>\n",
       "      <td>-3.639569e+00</td>\n",
       "      <td>-1.730663e+00</td>\n",
       "    </tr>\n",
       "    <tr>\n",
       "      <th>25%</th>\n",
       "      <td>-6.789937e-01</td>\n",
       "      <td>-1.031152e+00</td>\n",
       "      <td>-7.251406e-01</td>\n",
       "      <td>-6.938832e-01</td>\n",
       "      <td>-7.303655e-01</td>\n",
       "      <td>-6.354530e-01</td>\n",
       "      <td>-6.587705e-01</td>\n",
       "      <td>-5.495113e-01</td>\n",
       "      <td>-7.157672e-01</td>\n",
       "      <td>-6.153261e-01</td>\n",
       "      <td>-7.791816e-01</td>\n",
       "      <td>-5.543735e-01</td>\n",
       "      <td>-7.256746e-01</td>\n",
       "      <td>-7.825025e-01</td>\n",
       "      <td>-6.418053e-01</td>\n",
       "      <td>-6.269931e-01</td>\n",
       "      <td>-8.665466e-01</td>\n",
       "    </tr>\n",
       "    <tr>\n",
       "      <th>50%</th>\n",
       "      <td>8.073512e-03</td>\n",
       "      <td>-5.448377e-03</td>\n",
       "      <td>-6.706185e-02</td>\n",
       "      <td>-6.887953e-02</td>\n",
       "      <td>-1.045843e-01</td>\n",
       "      <td>8.497643e-02</td>\n",
       "      <td>-9.526851e-02</td>\n",
       "      <td>-2.077898e-01</td>\n",
       "      <td>-1.167789e-01</td>\n",
       "      <td>8.885929e-02</td>\n",
       "      <td>-8.595595e-02</td>\n",
       "      <td>-1.709504e-01</td>\n",
       "      <td>-8.612913e-02</td>\n",
       "      <td>-1.362968e-01</td>\n",
       "      <td>7.595360e-02</td>\n",
       "      <td>7.388444e-02</td>\n",
       "      <td>-2.013795e-03</td>\n",
       "    </tr>\n",
       "    <tr>\n",
       "      <th>75%</th>\n",
       "      <td>6.951407e-01</td>\n",
       "      <td>6.783540e-01</td>\n",
       "      <td>6.508422e-01</td>\n",
       "      <td>6.289125e-01</td>\n",
       "      <td>6.245675e-01</td>\n",
       "      <td>7.266089e-01</td>\n",
       "      <td>6.091090e-01</td>\n",
       "      <td>1.861314e-01</td>\n",
       "      <td>5.945196e-01</td>\n",
       "      <td>7.253345e-01</td>\n",
       "      <td>6.072697e-01</td>\n",
       "      <td>2.358410e-01</td>\n",
       "      <td>6.233667e-01</td>\n",
       "      <td>5.099089e-01</td>\n",
       "      <td>7.385002e-01</td>\n",
       "      <td>7.121343e-01</td>\n",
       "      <td>8.652826e-01</td>\n",
       "    </tr>\n",
       "    <tr>\n",
       "      <th>max</th>\n",
       "      <td>3.993063e+00</td>\n",
       "      <td>2.045959e+00</td>\n",
       "      <td>3.681993e+00</td>\n",
       "      <td>4.288661e+00</td>\n",
       "      <td>3.617869e+00</td>\n",
       "      <td>2.809100e+00</td>\n",
       "      <td>6.525880e+00</td>\n",
       "      <td>8.085299e+00</td>\n",
       "      <td>3.701771e+00</td>\n",
       "      <td>2.661844e+00</td>\n",
       "      <td>6.430365e+00</td>\n",
       "      <td>7.828063e+00</td>\n",
       "      <td>3.799110e+00</td>\n",
       "      <td>4.387143e+00</td>\n",
       "      <td>3.388687e+00</td>\n",
       "      <td>3.030280e+00</td>\n",
       "      <td>1.718809e+00</td>\n",
       "    </tr>\n",
       "  </tbody>\n",
       "</table>\n",
       "</div>"
      ],
      "text/plain": [
       "                 0             1             2             3             4   \\\n",
       "count  1.650400e+04  1.650400e+04  1.650400e+04  1.650400e+04  1.650400e+04   \n",
       "mean   2.475534e-18 -6.457914e-18 -1.064207e-13 -9.622292e-16  8.970917e-15   \n",
       "std    1.000030e+00  1.000030e+00  1.000030e+00  1.000030e+00  1.000030e+00   \n",
       "min   -3.976916e+00 -2.056856e+00 -2.938678e+00 -3.172346e+00 -2.966727e+00   \n",
       "25%   -6.789937e-01 -1.031152e+00 -7.251406e-01 -6.938832e-01 -7.303655e-01   \n",
       "50%    8.073512e-03 -5.448377e-03 -6.706185e-02 -6.887953e-02 -1.045843e-01   \n",
       "75%    6.951407e-01  6.783540e-01  6.508422e-01  6.289125e-01  6.245675e-01   \n",
       "max    3.993063e+00  2.045959e+00  3.681993e+00  4.288661e+00  3.617869e+00   \n",
       "\n",
       "                 5             6             7             8             9   \\\n",
       "count  1.650400e+04  1.650400e+04  1.650400e+04  1.650400e+04  1.650400e+04   \n",
       "mean  -1.612509e-13 -3.131335e-12 -3.295527e-15  1.195704e-14  4.080950e-14   \n",
       "std    1.000030e+00  1.000030e+00  1.000030e+00  1.000030e+00  1.000030e+00   \n",
       "min   -3.956183e+00 -2.771903e+00 -1.869384e+00 -2.587606e+00 -3.499778e+00   \n",
       "25%   -6.354530e-01 -6.587705e-01 -5.495113e-01 -7.157672e-01 -6.153261e-01   \n",
       "50%    8.497643e-02 -9.526851e-02 -2.077898e-01 -1.167789e-01  8.885929e-02   \n",
       "75%    7.266089e-01  6.091090e-01  1.861314e-01  5.945196e-01  7.253345e-01   \n",
       "max    2.809100e+00  6.525880e+00  8.085299e+00  3.701771e+00  2.661844e+00   \n",
       "\n",
       "                 10            11            12            13            14  \\\n",
       "count  1.650400e+04  1.650400e+04  1.650400e+04  1.650400e+04  1.650400e+04   \n",
       "mean   8.344466e-12  5.478103e-14 -3.223575e-17 -4.511822e-15 -1.930642e-14   \n",
       "std    1.000030e+00  1.000030e+00  1.000030e+00  1.000030e+00  1.000030e+00   \n",
       "min   -2.997504e+00 -2.291070e+00 -3.126635e+00 -3.367325e+00 -3.623265e+00   \n",
       "25%   -7.791816e-01 -5.543735e-01 -7.256746e-01 -7.825025e-01 -6.418053e-01   \n",
       "50%   -8.595595e-02 -1.709504e-01 -8.612913e-02 -1.362968e-01  7.595360e-02   \n",
       "75%    6.072697e-01  2.358410e-01  6.233667e-01  5.099089e-01  7.385002e-01   \n",
       "max    6.430365e+00  7.828063e+00  3.799110e+00  4.387143e+00  3.388687e+00   \n",
       "\n",
       "                 15            16  \n",
       "count  1.650400e+04  1.650400e+04  \n",
       "mean   4.567575e-14 -3.788643e-17  \n",
       "std    1.000030e+00  1.000030e+00  \n",
       "min   -3.639569e+00 -1.730663e+00  \n",
       "25%   -6.269931e-01 -8.665466e-01  \n",
       "50%    7.388444e-02 -2.013795e-03  \n",
       "75%    7.121343e-01  8.652826e-01  \n",
       "max    3.030280e+00  1.718809e+00  "
      ]
     },
     "execution_count": 43,
     "metadata": {},
     "output_type": "execute_result"
    }
   ],
   "source": [
    "pd.DataFrame(X_train).describe()"
   ]
  },
  {
   "cell_type": "code",
   "execution_count": 44,
   "metadata": {
    "ExecuteTime": {
     "end_time": "2020-12-03T16:55:20.549680Z",
     "start_time": "2020-12-03T16:55:06.244126Z"
    }
   },
   "outputs": [
    {
     "name": "stdout",
     "output_type": "stream",
     "text": [
      "R² score : 0.8175642144905415\n"
     ]
    }
   ],
   "source": [
    "svr = SVR(kernel='linear')\n",
    "svr.fit(X_train, y_train)\n",
    "\n",
    "print(f'R² score : {svr.score(X_train, y_train)}')\n",
    "y_pred = svr.predict(X_test)"
   ]
  },
  {
   "cell_type": "code",
   "execution_count": 45,
   "metadata": {
    "ExecuteTime": {
     "end_time": "2020-12-03T16:55:20.559694Z",
     "start_time": "2020-12-03T16:55:20.552071Z"
    }
   },
   "outputs": [
    {
     "name": "stdout",
     "output_type": "stream",
     "text": [
      "R² score : 0.8171680508192459\n",
      "MSE      : 864.0966025077306\n"
     ]
    }
   ],
   "source": [
    "print(f'R² score : {r2_score(y_test, y_pred)}')\n",
    "print(f'MSE      : {mean_squared_error(y_test, y_pred)}')"
   ]
  },
  {
   "cell_type": "code",
   "execution_count": 46,
   "metadata": {
    "ExecuteTime": {
     "end_time": "2020-12-03T16:55:20.794359Z",
     "start_time": "2020-12-03T16:55:20.563111Z"
    },
    "scrolled": false
   },
   "outputs": [
    {
     "data": {
      "image/png": "[encoded data removed]",
      "text/plain": [
       "<Figure size 432x432 with 1 Axes>"
      ]
     },
     "metadata": {
      "needs_background": "light"
     },
     "output_type": "display_data"
    }
   ],
   "source": [
    "def plot_rul_true_estimated():\n",
    "\n",
    "    # reset index y_test\n",
    "    y_test.reset_index(drop=True, inplace=True)\n",
    "\n",
    "    # create RUL df to compute error,d and score,s\n",
    "    RUL = pd.concat([y_test.reset_index(drop=True), pd.Series(y_pred)], axis=1, ignore_index=True )\n",
    "    RUL.rename(columns={0:'true', 1:'estimated'}, inplace=True)\n",
    "\n",
    "    # cast as int\n",
    "    RUL['estimated'] = [int(i) for i in RUL['estimated']]\n",
    "\n",
    "    # compute error d\n",
    "    RUL['error'] = RUL['estimated'] - RUL['true']\n",
    "    \n",
    "    # plotting\n",
    "    plt.figure(figsize=(6,6))\n",
    "    sns.scatterplot(data=RUL, x='true', y='estimated')\n",
    "    sns.lineplot(x=np.arange(-50,350), y=np.arange(-50,350), color = 'red')\n",
    "    plt.xlim(-50,350)\n",
    "    plt.ylim(-50,350)\n",
    "    plt.grid()\n",
    "    plt.show()\n",
    "    \n",
    "plot_rul_true_estimated()    "
   ]
  },
  {
   "cell_type": "code",
   "execution_count": null,
   "metadata": {},
   "outputs": [],
   "source": []
  }
 ],
 "metadata": {
  "kernelspec": {
   "display_name": "Python 3",
   "language": "python",
   "name": "python3"
  },
  "language_info": {
   "codemirror_mode": {
    "name": "ipython",
    "version": 3
   },
   "file_extension": ".py",
   "mimetype": "text/x-python",
   "name": "python",
   "nbconvert_exporter": "python",
   "pygments_lexer": "ipython3",
   "version": "3.7.6"
  },
  "toc": {
   "base_numbering": 1,
   "nav_menu": {},
   "number_sections": true,
   "sideBar": true,
   "skip_h1_title": false,
   "title_cell": "Table of Contents",
   "title_sidebar": "Contents",
   "toc_cell": false,
   "toc_position": {},
   "toc_section_display": true,
   "toc_window_display": false
  },
  "varInspector": {
   "cols": {
    "lenName": 16,
    "lenType": 16,
    "lenVar": 40
   },
   "kernels_config": {
    "python": {
     "delete_cmd_postfix": "",
     "delete_cmd_prefix": "del ",
     "library": "var_list.py",
     "varRefreshCmd": "print(var_dic_list())"
    },
    "r": {
     "delete_cmd_postfix": ") ",
     "delete_cmd_prefix": "rm(",
     "library": "var_list.r",
     "varRefreshCmd": "cat(var_dic_list()) "
    }
   },
   "types_to_exclude": [
    "module",
    "function",
    "builtin_function_or_method",
    "instance",
    "_Feature"
   ],
   "window_display": false
  }
 },
 "nbformat": 4,
 "nbformat_minor": 4
}
